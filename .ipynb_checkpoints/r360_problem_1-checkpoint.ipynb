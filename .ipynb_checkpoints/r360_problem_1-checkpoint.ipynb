{
 "cells": [
  {
   "cell_type": "code",
   "execution_count": 1,
   "metadata": {},
   "outputs": [],
   "source": [
    "import pandas as pd\n",
    "import numpy as np\n",
    "import gc\n",
    "import seaborn as sns"
   ]
  },
  {
   "cell_type": "code",
   "execution_count": 2,
   "metadata": {},
   "outputs": [],
   "source": [
    "# read_data\n",
    "train_1 = pd.read_table(r'E:\\open_data_train_valid\\train\\train_1.txt')\n",
    "train_2 = pd.read_table(r'E:\\open_data_train_valid\\train\\train_3.txt',header = None)\n",
    "train_3 = pd.read_table(r'E:\\open_data_train_valid\\train\\train_3.txt',header = None) #label is NaN\n",
    "train_4 = pd.read_table(r'E:\\open_data_train_valid\\train\\train_3.txt',header = None)\n",
    "train_5 = pd.read_table(r'E:\\open_data_train_valid\\train\\train_3.txt',header = None)"
   ]
  },
  {
   "cell_type": "code",
   "execution_count": 3,
   "metadata": {},
   "outputs": [],
   "source": [
    "col_names = train_1.columns"
   ]
  },
  {
   "cell_type": "code",
   "execution_count": 4,
   "metadata": {},
   "outputs": [],
   "source": [
    "train_2.columns = col_names\n",
    "train_3.columns = col_names\n",
    "train_4.columns = col_names\n",
    "train_5.columns = col_names"
   ]
  },
  {
   "cell_type": "code",
   "execution_count": 5,
   "metadata": {},
   "outputs": [],
   "source": [
    "train = pd.concat([train_1,train_2,train_3,train_4,train_5])"
   ]
  },
  {
   "cell_type": "code",
   "execution_count": 6,
   "metadata": {},
   "outputs": [
    {
     "data": {
      "text/plain": [
       "0"
      ]
     },
     "execution_count": 6,
     "metadata": {},
     "output_type": "execute_result"
    }
   ],
   "source": [
    "del train_1,train_2,train_3,train_4,train_5\n",
    "gc.collect()"
   ]
  },
  {
   "cell_type": "code",
   "execution_count": 7,
   "metadata": {},
   "outputs": [
    {
     "data": {
      "text/plain": [
       "0"
      ]
     },
     "execution_count": 7,
     "metadata": {},
     "output_type": "execute_result"
    }
   ],
   "source": [
    "train_y = train[train['label'].notnull()]\n",
    "train_null = train[train['label'].isnull()]\n",
    "del train\n",
    "gc.collect()"
   ]
  },
  {
   "cell_type": "markdown",
   "metadata": {},
   "source": [
    "###### EDA"
   ]
  },
  {
   "cell_type": "code",
   "execution_count": 8,
   "metadata": {},
   "outputs": [],
   "source": [
    "# calculate high missing variables\n",
    "var_list = col_names.drop(['id','loan_dt','label','tag'])"
   ]
  },
  {
   "cell_type": "code",
   "execution_count": 9,
   "metadata": {},
   "outputs": [],
   "source": [
    "missing_df = train_y[var_list].isnull().sum(axis = 0).reset_index()\n",
    "missing_df.columns = ['columns_name','missing_number']\n",
    "missing_df['missing_per'] = (missing_df['missing_number'])/train_y.shape[0]*100"
   ]
  },
  {
   "cell_type": "code",
   "execution_count": 10,
   "metadata": {},
   "outputs": [],
   "source": [
    "high_missing = missing_df.loc[missing_df['missing_per']>95,'columns_name'].values.tolist()\n",
    "non_high_missing = [x for x in var_list if x not in high_missing]"
   ]
  },
  {
   "cell_type": "code",
   "execution_count": 11,
   "metadata": {},
   "outputs": [],
   "source": [
    "from sklearn.ensemble import RandomForestClassifier\n",
    "from sklearn.feature_selection import SelectFromModel"
   ]
  },
  {
   "cell_type": "code",
   "execution_count": 12,
   "metadata": {},
   "outputs": [],
   "source": [
    "from sklearn.impute import SimpleImputer"
   ]
  },
  {
   "cell_type": "code",
   "execution_count": 13,
   "metadata": {},
   "outputs": [],
   "source": [
    "imp_mode = SimpleImputer(missing_values = np.nan, strategy='median')\n",
    "train_y[non_high_missing] = imp_mode.fit_transform(train_y[non_high_missing]) # use median inpute missing?"
   ]
  },
  {
   "cell_type": "code",
   "execution_count": 14,
   "metadata": {},
   "outputs": [
    {
     "data": {
      "text/plain": [
       "GridSearchCV(cv=5, error_score='raise-deprecating',\n",
       "       estimator=RandomForestClassifier(bootstrap=True, class_weight=None, criterion='gini',\n",
       "            max_depth=None, max_features='auto', max_leaf_nodes=None,\n",
       "            min_impurity_decrease=0.0, min_impurity_split=None,\n",
       "            min_samples_leaf=1, min_samples_split=2,\n",
       "            min_weight_fraction_leaf=0.0, n_estimators='warn', n_jobs=-1,\n",
       "            oob_score=False, random_state=2018, verbose=0,\n",
       "            warm_start=False),\n",
       "       fit_params=None, iid='warn', n_jobs=-1,\n",
       "       param_grid={'n_estimators': array([100, 200, 300, 400, 500, 600, 700, 800, 900])},\n",
       "       pre_dispatch='2*n_jobs', refit=True, return_train_score='warn',\n",
       "       scoring='roc_auc', verbose=0)"
      ]
     },
     "execution_count": 14,
     "metadata": {},
     "output_type": "execute_result"
    }
   ],
   "source": [
    "# using grid_search to tune hyper parameter and apply model to get importance greater than 0.001\n",
    "# from sklearn.model_selection import GridSearchCV\n",
    "# parameters = {'n_estimators':np.arange(100,1000,100)}\n",
    "# rf = RandomForestClassifier(random_state=2018,n_jobs = -1)\n",
    "# cv_rf = GridSearchCV(cv=5,n_jobs=-1,estimator=rf,param_grid=parameters,scoring='roc_auc')\n",
    "# cv_rf.fit(X = train_y[non_high_missing],y = train_y['label'])"
   ]
  },
  {
   "cell_type": "code",
   "execution_count": 21,
   "metadata": {},
   "outputs": [
    {
     "data": {
      "text/html": [
       "<div>\n",
       "<style scoped>\n",
       "    .dataframe tbody tr th:only-of-type {\n",
       "        vertical-align: middle;\n",
       "    }\n",
       "\n",
       "    .dataframe tbody tr th {\n",
       "        vertical-align: top;\n",
       "    }\n",
       "\n",
       "    .dataframe thead th {\n",
       "        text-align: right;\n",
       "    }\n",
       "</style>\n",
       "<table border=\"1\" class=\"dataframe\">\n",
       "  <thead>\n",
       "    <tr style=\"text-align: right;\">\n",
       "      <th></th>\n",
       "      <th>mean_fit_time</th>\n",
       "      <th>std_fit_time</th>\n",
       "      <th>mean_score_time</th>\n",
       "      <th>std_score_time</th>\n",
       "      <th>param_max_depth</th>\n",
       "      <th>params</th>\n",
       "      <th>split0_test_score</th>\n",
       "      <th>split1_test_score</th>\n",
       "      <th>split2_test_score</th>\n",
       "      <th>split3_test_score</th>\n",
       "      <th>...</th>\n",
       "      <th>mean_test_score</th>\n",
       "      <th>std_test_score</th>\n",
       "      <th>rank_test_score</th>\n",
       "      <th>split0_train_score</th>\n",
       "      <th>split1_train_score</th>\n",
       "      <th>split2_train_score</th>\n",
       "      <th>split3_train_score</th>\n",
       "      <th>split4_train_score</th>\n",
       "      <th>mean_train_score</th>\n",
       "      <th>std_train_score</th>\n",
       "    </tr>\n",
       "  </thead>\n",
       "  <tbody>\n",
       "    <tr>\n",
       "      <th>0</th>\n",
       "      <td>33.766026</td>\n",
       "      <td>13.331477</td>\n",
       "      <td>7.949146</td>\n",
       "      <td>1.813508</td>\n",
       "      <td>1</td>\n",
       "      <td>{'max_depth': 1}</td>\n",
       "      <td>0.733539</td>\n",
       "      <td>0.736021</td>\n",
       "      <td>0.725557</td>\n",
       "      <td>0.762816</td>\n",
       "      <td>...</td>\n",
       "      <td>0.745865</td>\n",
       "      <td>0.017894</td>\n",
       "      <td>9</td>\n",
       "      <td>0.762138</td>\n",
       "      <td>0.754168</td>\n",
       "      <td>0.755795</td>\n",
       "      <td>0.758072</td>\n",
       "      <td>0.756925</td>\n",
       "      <td>0.757419</td>\n",
       "      <td>0.002689</td>\n",
       "    </tr>\n",
       "    <tr>\n",
       "      <th>1</th>\n",
       "      <td>49.854808</td>\n",
       "      <td>13.114597</td>\n",
       "      <td>6.551682</td>\n",
       "      <td>1.672482</td>\n",
       "      <td>2</td>\n",
       "      <td>{'max_depth': 2}</td>\n",
       "      <td>0.752736</td>\n",
       "      <td>0.769888</td>\n",
       "      <td>0.747817</td>\n",
       "      <td>0.783884</td>\n",
       "      <td>...</td>\n",
       "      <td>0.768779</td>\n",
       "      <td>0.016485</td>\n",
       "      <td>8</td>\n",
       "      <td>0.795439</td>\n",
       "      <td>0.790381</td>\n",
       "      <td>0.793574</td>\n",
       "      <td>0.792190</td>\n",
       "      <td>0.786781</td>\n",
       "      <td>0.791673</td>\n",
       "      <td>0.002955</td>\n",
       "    </tr>\n",
       "    <tr>\n",
       "      <th>2</th>\n",
       "      <td>56.150868</td>\n",
       "      <td>8.946909</td>\n",
       "      <td>5.132876</td>\n",
       "      <td>1.134801</td>\n",
       "      <td>3</td>\n",
       "      <td>{'max_depth': 3}</td>\n",
       "      <td>0.762455</td>\n",
       "      <td>0.782801</td>\n",
       "      <td>0.757726</td>\n",
       "      <td>0.790599</td>\n",
       "      <td>...</td>\n",
       "      <td>0.778312</td>\n",
       "      <td>0.015707</td>\n",
       "      <td>7</td>\n",
       "      <td>0.826975</td>\n",
       "      <td>0.823712</td>\n",
       "      <td>0.826634</td>\n",
       "      <td>0.822818</td>\n",
       "      <td>0.819259</td>\n",
       "      <td>0.823880</td>\n",
       "      <td>0.002817</td>\n",
       "    </tr>\n",
       "    <tr>\n",
       "      <th>3</th>\n",
       "      <td>72.318634</td>\n",
       "      <td>11.126967</td>\n",
       "      <td>10.421136</td>\n",
       "      <td>2.563797</td>\n",
       "      <td>4</td>\n",
       "      <td>{'max_depth': 4}</td>\n",
       "      <td>0.769149</td>\n",
       "      <td>0.788480</td>\n",
       "      <td>0.763081</td>\n",
       "      <td>0.796304</td>\n",
       "      <td>...</td>\n",
       "      <td>0.784389</td>\n",
       "      <td>0.015921</td>\n",
       "      <td>6</td>\n",
       "      <td>0.861724</td>\n",
       "      <td>0.860421</td>\n",
       "      <td>0.864189</td>\n",
       "      <td>0.858508</td>\n",
       "      <td>0.855690</td>\n",
       "      <td>0.860106</td>\n",
       "      <td>0.002879</td>\n",
       "    </tr>\n",
       "    <tr>\n",
       "      <th>4</th>\n",
       "      <td>115.772249</td>\n",
       "      <td>6.827106</td>\n",
       "      <td>13.193523</td>\n",
       "      <td>1.575858</td>\n",
       "      <td>5</td>\n",
       "      <td>{'max_depth': 5}</td>\n",
       "      <td>0.771577</td>\n",
       "      <td>0.791978</td>\n",
       "      <td>0.767863</td>\n",
       "      <td>0.801758</td>\n",
       "      <td>...</td>\n",
       "      <td>0.787918</td>\n",
       "      <td>0.015619</td>\n",
       "      <td>5</td>\n",
       "      <td>0.899749</td>\n",
       "      <td>0.900707</td>\n",
       "      <td>0.902585</td>\n",
       "      <td>0.898983</td>\n",
       "      <td>0.895423</td>\n",
       "      <td>0.899489</td>\n",
       "      <td>0.002363</td>\n",
       "    </tr>\n",
       "    <tr>\n",
       "      <th>5</th>\n",
       "      <td>121.774201</td>\n",
       "      <td>8.546544</td>\n",
       "      <td>9.682511</td>\n",
       "      <td>2.895396</td>\n",
       "      <td>6</td>\n",
       "      <td>{'max_depth': 6}</td>\n",
       "      <td>0.776903</td>\n",
       "      <td>0.796314</td>\n",
       "      <td>0.771973</td>\n",
       "      <td>0.802256</td>\n",
       "      <td>...</td>\n",
       "      <td>0.791367</td>\n",
       "      <td>0.014515</td>\n",
       "      <td>4</td>\n",
       "      <td>0.933301</td>\n",
       "      <td>0.934963</td>\n",
       "      <td>0.935226</td>\n",
       "      <td>0.930663</td>\n",
       "      <td>0.929476</td>\n",
       "      <td>0.932726</td>\n",
       "      <td>0.002298</td>\n",
       "    </tr>\n",
       "    <tr>\n",
       "      <th>6</th>\n",
       "      <td>136.381943</td>\n",
       "      <td>9.887624</td>\n",
       "      <td>15.022633</td>\n",
       "      <td>2.740689</td>\n",
       "      <td>7</td>\n",
       "      <td>{'max_depth': 7}</td>\n",
       "      <td>0.776655</td>\n",
       "      <td>0.795683</td>\n",
       "      <td>0.772562</td>\n",
       "      <td>0.802998</td>\n",
       "      <td>...</td>\n",
       "      <td>0.791760</td>\n",
       "      <td>0.014866</td>\n",
       "      <td>3</td>\n",
       "      <td>0.958508</td>\n",
       "      <td>0.962214</td>\n",
       "      <td>0.961741</td>\n",
       "      <td>0.958682</td>\n",
       "      <td>0.957632</td>\n",
       "      <td>0.959755</td>\n",
       "      <td>0.001855</td>\n",
       "    </tr>\n",
       "    <tr>\n",
       "      <th>7</th>\n",
       "      <td>188.779059</td>\n",
       "      <td>5.779652</td>\n",
       "      <td>10.948074</td>\n",
       "      <td>3.134121</td>\n",
       "      <td>8</td>\n",
       "      <td>{'max_depth': 8}</td>\n",
       "      <td>0.779123</td>\n",
       "      <td>0.800514</td>\n",
       "      <td>0.771753</td>\n",
       "      <td>0.804935</td>\n",
       "      <td>...</td>\n",
       "      <td>0.793759</td>\n",
       "      <td>0.015617</td>\n",
       "      <td>2</td>\n",
       "      <td>0.977956</td>\n",
       "      <td>0.979727</td>\n",
       "      <td>0.979729</td>\n",
       "      <td>0.977610</td>\n",
       "      <td>0.976776</td>\n",
       "      <td>0.978359</td>\n",
       "      <td>0.001181</td>\n",
       "    </tr>\n",
       "    <tr>\n",
       "      <th>8</th>\n",
       "      <td>154.291263</td>\n",
       "      <td>36.827790</td>\n",
       "      <td>3.075185</td>\n",
       "      <td>2.171976</td>\n",
       "      <td>9</td>\n",
       "      <td>{'max_depth': 9}</td>\n",
       "      <td>0.780274</td>\n",
       "      <td>0.800339</td>\n",
       "      <td>0.772778</td>\n",
       "      <td>0.806289</td>\n",
       "      <td>...</td>\n",
       "      <td>0.794577</td>\n",
       "      <td>0.015476</td>\n",
       "      <td>1</td>\n",
       "      <td>0.988608</td>\n",
       "      <td>0.989875</td>\n",
       "      <td>0.990031</td>\n",
       "      <td>0.989613</td>\n",
       "      <td>0.987516</td>\n",
       "      <td>0.989128</td>\n",
       "      <td>0.000946</td>\n",
       "    </tr>\n",
       "  </tbody>\n",
       "</table>\n",
       "<p>9 rows × 21 columns</p>\n",
       "</div>"
      ],
      "text/plain": [
       "   mean_fit_time  std_fit_time  mean_score_time  std_score_time  \\\n",
       "0      33.766026     13.331477         7.949146        1.813508   \n",
       "1      49.854808     13.114597         6.551682        1.672482   \n",
       "2      56.150868      8.946909         5.132876        1.134801   \n",
       "3      72.318634     11.126967        10.421136        2.563797   \n",
       "4     115.772249      6.827106        13.193523        1.575858   \n",
       "5     121.774201      8.546544         9.682511        2.895396   \n",
       "6     136.381943      9.887624        15.022633        2.740689   \n",
       "7     188.779059      5.779652        10.948074        3.134121   \n",
       "8     154.291263     36.827790         3.075185        2.171976   \n",
       "\n",
       "  param_max_depth            params  split0_test_score  split1_test_score  \\\n",
       "0               1  {'max_depth': 1}           0.733539           0.736021   \n",
       "1               2  {'max_depth': 2}           0.752736           0.769888   \n",
       "2               3  {'max_depth': 3}           0.762455           0.782801   \n",
       "3               4  {'max_depth': 4}           0.769149           0.788480   \n",
       "4               5  {'max_depth': 5}           0.771577           0.791978   \n",
       "5               6  {'max_depth': 6}           0.776903           0.796314   \n",
       "6               7  {'max_depth': 7}           0.776655           0.795683   \n",
       "7               8  {'max_depth': 8}           0.779123           0.800514   \n",
       "8               9  {'max_depth': 9}           0.780274           0.800339   \n",
       "\n",
       "   split2_test_score  split3_test_score       ...         mean_test_score  \\\n",
       "0           0.725557           0.762816       ...                0.745865   \n",
       "1           0.747817           0.783884       ...                0.768779   \n",
       "2           0.757726           0.790599       ...                0.778312   \n",
       "3           0.763081           0.796304       ...                0.784389   \n",
       "4           0.767863           0.801758       ...                0.787918   \n",
       "5           0.771973           0.802256       ...                0.791367   \n",
       "6           0.772562           0.802998       ...                0.791760   \n",
       "7           0.771753           0.804935       ...                0.793759   \n",
       "8           0.772778           0.806289       ...                0.794577   \n",
       "\n",
       "   std_test_score  rank_test_score  split0_train_score  split1_train_score  \\\n",
       "0        0.017894                9            0.762138            0.754168   \n",
       "1        0.016485                8            0.795439            0.790381   \n",
       "2        0.015707                7            0.826975            0.823712   \n",
       "3        0.015921                6            0.861724            0.860421   \n",
       "4        0.015619                5            0.899749            0.900707   \n",
       "5        0.014515                4            0.933301            0.934963   \n",
       "6        0.014866                3            0.958508            0.962214   \n",
       "7        0.015617                2            0.977956            0.979727   \n",
       "8        0.015476                1            0.988608            0.989875   \n",
       "\n",
       "   split2_train_score  split3_train_score  split4_train_score  \\\n",
       "0            0.755795            0.758072            0.756925   \n",
       "1            0.793574            0.792190            0.786781   \n",
       "2            0.826634            0.822818            0.819259   \n",
       "3            0.864189            0.858508            0.855690   \n",
       "4            0.902585            0.898983            0.895423   \n",
       "5            0.935226            0.930663            0.929476   \n",
       "6            0.961741            0.958682            0.957632   \n",
       "7            0.979729            0.977610            0.976776   \n",
       "8            0.990031            0.989613            0.987516   \n",
       "\n",
       "   mean_train_score  std_train_score  \n",
       "0          0.757419         0.002689  \n",
       "1          0.791673         0.002955  \n",
       "2          0.823880         0.002817  \n",
       "3          0.860106         0.002879  \n",
       "4          0.899489         0.002363  \n",
       "5          0.932726         0.002298  \n",
       "6          0.959755         0.001855  \n",
       "7          0.978359         0.001181  \n",
       "8          0.989128         0.000946  \n",
       "\n",
       "[9 rows x 21 columns]"
      ]
     },
     "execution_count": 21,
     "metadata": {},
     "output_type": "execute_result"
    }
   ],
   "source": [
    "# n_estimators = 800,max_depth = 9\n",
    "# parameters = {'max_depth':np.arange(1,10,1)}\n",
    "# rf_1 = RandomForestClassifier(random_state=2018,n_jobs = -1,n_estimators = 800)\n",
    "# cv_rf = GridSearchCV(cv=5,n_jobs=-1,estimator=rf_1,param_grid=parameters,scoring='roc_auc',return_train_score=True)\n",
    "# cv_rf.fit(X = train_y[non_high_missing],y = train_y['label'])\n",
    "# pd.DataFrame(cv_rf.cv_results_)"
   ]
  },
  {
   "cell_type": "code",
   "execution_count": 23,
   "metadata": {},
   "outputs": [
    {
     "data": {
      "text/plain": [
       "Index(['f5567', 'f5773', 'f1469', 'f5679', 'f231', 'f2145', 'f6436', 'f6437',\n",
       "       'f1962', 'f6518', 'f3918', 'f5523', 'f3688', 'f3206', 'f1228', 'f2476',\n",
       "       'f2668', 'f3831', 'f5096', 'f6263', 'f4881', 'f4850', 'f6072', 'f2552',\n",
       "       'f5009', 'f5322', 'f659', 'f46', 'f4968', 'f1842', 'f5800', 'f3890',\n",
       "       'f3089', 'f5033', 'f4519', 'f1733', 'f3139', 'f1930', 'f1561', 'f1402',\n",
       "       'f4903', 'f774', 'f3453', 'f395', 'f1799', 'f1554', 'f1670', 'f5358',\n",
       "       'f1077', 'f6581', 'f2396', 'f3789', 'f1650', 'f3169', 'f3920', 'f5126',\n",
       "       'f3057', 'f1508', 'f2521', 'f1875', 'f528', 'f5017', 'f5969', 'f1336'],\n",
       "      dtype='object')"
      ]
     },
     "execution_count": 23,
     "metadata": {},
     "output_type": "execute_result"
    }
   ],
   "source": [
    "rf = RandomForestClassifier(random_state=2018,n_jobs = -1,n_estimators=800,max_depth=9)\n",
    "rf.fit(X = train_y[non_high_missing],y = train_y['label'])\n",
    "fea = pd.Series(rf.feature_importances_,index = non_high_missing).sort_values(ascending = False)"
   ]
  },
  {
   "cell_type": "code",
   "execution_count": 26,
   "metadata": {},
   "outputs": [],
   "source": [
    "reduced_list = list(fea[fea>0.001].index)\n"
   ]
  }
 ],
 "metadata": {
  "kernelspec": {
   "display_name": "Python 3",
   "language": "python",
   "name": "python3"
  },
  "language_info": {
   "codemirror_mode": {
    "name": "ipython",
    "version": 3
   },
   "file_extension": ".py",
   "mimetype": "text/x-python",
   "name": "python",
   "nbconvert_exporter": "python",
   "pygments_lexer": "ipython3",
   "version": "3.7.1"
  }
 },
 "nbformat": 4,
 "nbformat_minor": 2
}
